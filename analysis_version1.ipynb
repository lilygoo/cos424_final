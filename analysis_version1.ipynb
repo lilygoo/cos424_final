{
 "cells": [
  {
   "cell_type": "code",
   "execution_count": null,
   "metadata": {},
   "outputs": [],
   "source": [
    "# import\n",
    "import seaborn as sns\n",
    "import matplotlib.pyplot as plt\n",
    "import numpy as np\n",
    "import pandas as pd\n",
    "\n",
    "from sklearn.linear_model import Ridge, RidgeCV, Lasso, LassoCV, ElasticNet, ElasticNetCV, LinearRegression\n",
    "\n",
    "%matplotlib inline\n",
    "import gc"
   ]
  },
  {
   "cell_type": "code",
   "execution_count": null,
   "metadata": {},
   "outputs": [],
   "source": [
    "df = pd.read_csv('C:/Users/y/Desktop/424brooklyn/data/lintong/COS424_final/workingdata.csv')\n",
    "# df = pd.read_csv('/home/yingyig/data/workingdata.csv')\n",
    "df.head()"
   ]
  },
  {
   "cell_type": "markdown",
   "metadata": {},
   "source": [
    "# pre-processing"
   ]
  },
  {
   "cell_type": "code",
   "execution_count": null,
   "metadata": {},
   "outputs": [],
   "source": [
    "# get rid of missing sale_price and outliers\n",
    "sale_prc_threshold = 10000  # to be determined\n",
    "null_mask = (~df.sale_price.isnull()) & (df.sale_price >= sale_prc_threshold)\n",
    "df_null_filtered = df[null_mask].reset_index(drop=True)\n",
    "del df\n",
    "\n",
    "# split training and test before pre-processing\n",
    "frac = 0.25\n",
    "ntest = int(len(df_null_filtered) * frac)\n",
    "test_indices = [int(np.floor(len(df_null_filtered) * np.random.rand())) for i in range(ntest)] \n",
    "train_indices = list(set(df_null_filtered.index) - set(test_indices))\n",
    "df_train = df_null_filtered.iloc[train_indices, :]\n",
    "df_test = df_null_filtered.iloc[test_indices, :]\n",
    "del df_null_filtered\n",
    "\n",
    "# impute with column mean\n",
    "df_train_imputed = df_train.fillna(df_train.mean())\n",
    "df_test_imputed = df_test.fillna(df_test.mean())\n",
    "del df_train\n",
    "del df_test\n",
    "\n",
    "# separate X and y\n",
    "X_train = df_train_imputed.loc[:, df_train_imputed.columns != 'sale_price']\n",
    "y_train = df_train_imputed.sale_price\n",
    "X_test = df_test_imputed.loc[:, df_test_imputed.columns != 'sale_price']\n",
    "y_test = df_test_imputed.sale_price\n",
    "del df_train_imputed\n",
    "del df_test_imputed\n",
    "\n",
    "gc.collect()\n",
    "#train_cor = df_train_imputed.corr()\n",
    "#test_cor = df_test_imputed.corr()"
   ]
  },
  {
   "cell_type": "markdown",
   "metadata": {},
   "source": [
    "### modeling"
   ]
  },
  {
   "cell_type": "code",
   "execution_count": null,
   "metadata": {},
   "outputs": [],
   "source": [
    "# prepare models\n",
    "models = []\n",
    "models.append(('LR', LinearRegression()))\n",
    "#models.append(('Lasso', Lasso()))\n",
    "#models.append(('Ridge', Ridge()))\n",
    "#models.append(('EN', ElasticNet()))\n",
    "#models.append(('LassoCV', LassoCV()))\n",
    "#models.append(('RidgeCV', RidgeCV()))\n",
    "#models.append(('ENCV', ElasticNetCV()))\n",
    "\n",
    "# evaluate each model in turn\n",
    "names = []\n",
    "for name, model in models:\n",
    "    model.fit(X_train, y_train)\n",
    "    print(\"\\n%s --- %f\" % (name, model.score(X_test, y_test)))  # adjusted r^2"
   ]
  }
 ],
 "metadata": {
  "kernelspec": {
   "display_name": "Python 3",
   "language": "python",
   "name": "python3"
  },
  "language_info": {
   "codemirror_mode": {
    "name": "ipython",
    "version": 3
   },
   "file_extension": ".py",
   "mimetype": "text/x-python",
   "name": "python",
   "nbconvert_exporter": "python",
   "pygments_lexer": "ipython3",
   "version": "3.6.3"
  }
 },
 "nbformat": 4,
 "nbformat_minor": 2
}
